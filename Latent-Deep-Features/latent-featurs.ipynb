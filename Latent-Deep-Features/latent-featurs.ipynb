{
 "cells": [
  {
   "cell_type": "markdown",
   "metadata": {},
   "source": [
    "# 🎉 Out-of-Distribution (OOD) with PCA using Deep Features from the Latent Space\n",
    "\n",
    "The goal of this notebook is to understand the depths of using Principal Component Analysis in order to perform OOD tasks using deep features from the latent space\n",
    "\n",
    "## 📝 Plan of action\n",
    "\n",
    "### ♻️ Preprocessing phase\n",
    "\n",
    "In order to achieve our goal, we need to understand how the dataset is structured.\n",
    "\n",
    "For this notebook, we are going to use the CBIR 15 dataset, that contains images of different places, such as an office, a bedroom, a mountain, etc. Note that there are some places that are similar one to another, i.e. a bedroom and a living room.\n",
    "\n",
    "Thus, in order to extract the features of the images we have to preprocess those images:\n",
    "\n",
    "- Get the images that are located in data/CBIR_15-scene and fit them to a dataframe using Pandas\n",
    "  - Locate the \"Labels.txt\" file: it shows where the indexes of the images from each category starts\n",
    "- Create the dataset with this information with two columns: the path to the image and its category\n",
    "- Transform all of the images in the same size (in this case, we are going with 256x256)\n",
    "  \n",
    "Now, in order to extract the features, it's necessary to divide the reshaped images into patches of 32x32 pixels. This is good to perform processing tasks to avoid waiting long periods of time.\n",
    "\n",
    "After all the preprocess, we should separate the images into two different foldes: one contains the patches of the training images that is going to give us their principal components and dimensions, and the other is the patches of the test images, that is going to be tested to fit into those dimensions and we'll get an OOD score afterwards.\n",
    "\n",
    "### 🏋🏽‍♂️ Training phase\n",
    "\n",
    "With the images that are stored inside the \"patches_train\" folder, the first thing we are going to do is _normalize_ all of the images to find the correct maximum covariance and transforming all the variables into the same scale.\n",
    "\n",
    "Next, we should then apply the PCA with all the components. As we have patches of 32x32, we'll be having 1024 features, hence components. Then we plot a graph to see how many components truly contributes for the most variance of the data - and give us more information about it. We're going to take the threshold of 95% of variance in this notebook.\n",
    "\n",
    "After getting the PCA with components that describe 95% of the variance, it's time to test our images and see how far of the residual space their data can be found.\n",
    "\n",
    "### ⚗️ Test phase and results\n",
    "\n",
    "In this phase, we take the test images and normalize then with the same scale of each PCA. This is important to maintain consistency throughout the final results and measure the norms in the new dimension properly.\n",
    "\n",
    "After that, we calculate the norm of the projection of the given data into the orthogonal space of the principal component and divide it by the norm of the data in relation to the origin. This is the OOD score.\n",
    "\n",
    "We calculate the mean of the score for each category and get the minimal one. The current environment is the smallest.\n"
   ]
  },
  {
   "cell_type": "markdown",
   "metadata": {},
   "source": [
    "--------------------------\n",
    "\n",
    "First of all, we need to understand which libraries we are going to use:\n",
    "\n",
    "- os: Deals with the operation system interface such as finding the relative and absolute path of files inside a project and reading/writing files for example.\n",
    "- sys: This module provides access to some variables used or maintained by the interpreter and to functions that interact strongly with the interpreter.\n",
    "- numpy: NumPy is the fundamental package for scientific computing in Python. It is a Python library that provides a multidimensional array object, various derived objects (such as masked arrays and matrices), and an assortment of routines for fast operations on arrays, including mathematical, logical, shape manipulation, sorting, selecting, I/O, discrete Fourier transforms, basic linear algebra, basic statistical operations, random simulation and much more.\n",
    "- pandas: Pandas is an open source, BSD-licensed library providing high-performance, easy-to-use data structures and data analysis tools for the Python programming language.\n",
    "- matplotlib: Deals with plotting graphs to visualize data in a graphical way.\n",
    "- sklearn: Scikit-learn provides dozens of built-in machine learning algorithms and models, called estimators."
   ]
  },
  {
   "cell_type": "code",
   "execution_count": 4,
   "metadata": {},
   "outputs": [],
   "source": [
    "import os\n",
    "import sys\n",
    "import cv2\n",
    "import numpy as np\n",
    "import pandas as pd\n",
    "import matplotlib.pyplot as plt\n",
    "from sklearn.model_selection import train_test_split\n",
    "from sklearn.preprocessing import StandardScaler\n",
    "from sklearn.decomposition import PCA\n"
   ]
  },
  {
   "cell_type": "markdown",
   "metadata": {},
   "source": [
    "I'd suggest to use a conda virtual environment in order to avoid messing up your base kernel environment and causing dependency errors in the future.\n",
    "\n",
    "After you successfully installed all the modules, it's time to import our custom modules that are going to deal with:\n",
    "\n",
    "- Creation of our dataframe using pandas\n",
    "- Separation of our dataset into patches of 32x32 in folders of training and test"
   ]
  },
  {
   "cell_type": "code",
   "execution_count": 5,
   "metadata": {},
   "outputs": [],
   "source": [
    "\n",
    "sys.path.append(os.path.abspath('..'))\n",
    "\n",
    "from dataframe_generator import *\n",
    "from image_patching import *"
   ]
  },
  {
   "cell_type": "code",
   "execution_count": 6,
   "metadata": {},
   "outputs": [
    {
     "name": "stdout",
     "output_type": "stream",
     "text": [
      "Arquivos extraídos para ../data/\n"
     ]
    }
   ],
   "source": [
    "import tarfile\n",
    "\n",
    "def extract_tgz(tgz_path, extract_to):\n",
    "    if not os.path.exists(extract_to):\n",
    "        os.makedirs(extract_to)\n",
    "    \n",
    "    with tarfile.open(tgz_path, 'r:gz') as tar:\n",
    "        tar.extractall(path=extract_to)\n",
    "        print(f\"Arquivos extraídos para {extract_to}\")\n",
    "\n",
    "tgz_path = '../CBIR_15-Scene.tgz'\n",
    "extract_to = '../data/'\n",
    "\n",
    "extract_tgz(tgz_path, extract_to)"
   ]
  },
  {
   "cell_type": "code",
   "execution_count": 7,
   "metadata": {},
   "outputs": [
    {
     "name": "stdout",
     "output_type": "stream",
     "text": [
      "                             image_path category\n",
      "0        ../data/CBIR_15-Scene/00/1.jpg  Bedroom\n",
      "1        ../data/CBIR_15-Scene/00/2.jpg  Bedroom\n",
      "2        ../data/CBIR_15-Scene/00/3.jpg  Bedroom\n",
      "3        ../data/CBIR_15-Scene/00/4.jpg  Bedroom\n",
      "4        ../data/CBIR_15-Scene/00/5.jpg  Bedroom\n",
      "...                                 ...      ...\n",
      "4480  ../data/CBIR_15-Scene/14/4481.jpg    Store\n",
      "4481  ../data/CBIR_15-Scene/14/4482.jpg    Store\n",
      "4482  ../data/CBIR_15-Scene/14/4483.jpg    Store\n",
      "4483  ../data/CBIR_15-Scene/14/4484.jpg    Store\n",
      "4484  ../data/CBIR_15-Scene/14/4485.jpg    Store\n",
      "\n",
      "[4485 rows x 2 columns]\n"
     ]
    },
    {
     "data": {
      "text/html": [
       "<div>\n",
       "<style scoped>\n",
       "    .dataframe tbody tr th:only-of-type {\n",
       "        vertical-align: middle;\n",
       "    }\n",
       "\n",
       "    .dataframe tbody tr th {\n",
       "        vertical-align: top;\n",
       "    }\n",
       "\n",
       "    .dataframe thead th {\n",
       "        text-align: right;\n",
       "    }\n",
       "</style>\n",
       "<table border=\"1\" class=\"dataframe\">\n",
       "  <thead>\n",
       "    <tr style=\"text-align: right;\">\n",
       "      <th></th>\n",
       "      <th>image_path</th>\n",
       "      <th>category</th>\n",
       "    </tr>\n",
       "  </thead>\n",
       "  <tbody>\n",
       "    <tr>\n",
       "      <th>0</th>\n",
       "      <td>../data/CBIR_15-Scene/00/1.jpg</td>\n",
       "      <td>Bedroom</td>\n",
       "    </tr>\n",
       "    <tr>\n",
       "      <th>1</th>\n",
       "      <td>../data/CBIR_15-Scene/00/2.jpg</td>\n",
       "      <td>Bedroom</td>\n",
       "    </tr>\n",
       "    <tr>\n",
       "      <th>2</th>\n",
       "      <td>../data/CBIR_15-Scene/00/3.jpg</td>\n",
       "      <td>Bedroom</td>\n",
       "    </tr>\n",
       "    <tr>\n",
       "      <th>3</th>\n",
       "      <td>../data/CBIR_15-Scene/00/4.jpg</td>\n",
       "      <td>Bedroom</td>\n",
       "    </tr>\n",
       "    <tr>\n",
       "      <th>4</th>\n",
       "      <td>../data/CBIR_15-Scene/00/5.jpg</td>\n",
       "      <td>Bedroom</td>\n",
       "    </tr>\n",
       "    <tr>\n",
       "      <th>...</th>\n",
       "      <td>...</td>\n",
       "      <td>...</td>\n",
       "    </tr>\n",
       "    <tr>\n",
       "      <th>4480</th>\n",
       "      <td>../data/CBIR_15-Scene/14/4481.jpg</td>\n",
       "      <td>Store</td>\n",
       "    </tr>\n",
       "    <tr>\n",
       "      <th>4481</th>\n",
       "      <td>../data/CBIR_15-Scene/14/4482.jpg</td>\n",
       "      <td>Store</td>\n",
       "    </tr>\n",
       "    <tr>\n",
       "      <th>4482</th>\n",
       "      <td>../data/CBIR_15-Scene/14/4483.jpg</td>\n",
       "      <td>Store</td>\n",
       "    </tr>\n",
       "    <tr>\n",
       "      <th>4483</th>\n",
       "      <td>../data/CBIR_15-Scene/14/4484.jpg</td>\n",
       "      <td>Store</td>\n",
       "    </tr>\n",
       "    <tr>\n",
       "      <th>4484</th>\n",
       "      <td>../data/CBIR_15-Scene/14/4485.jpg</td>\n",
       "      <td>Store</td>\n",
       "    </tr>\n",
       "  </tbody>\n",
       "</table>\n",
       "<p>4485 rows × 2 columns</p>\n",
       "</div>"
      ],
      "text/plain": [
       "                             image_path category\n",
       "0        ../data/CBIR_15-Scene/00/1.jpg  Bedroom\n",
       "1        ../data/CBIR_15-Scene/00/2.jpg  Bedroom\n",
       "2        ../data/CBIR_15-Scene/00/3.jpg  Bedroom\n",
       "3        ../data/CBIR_15-Scene/00/4.jpg  Bedroom\n",
       "4        ../data/CBIR_15-Scene/00/5.jpg  Bedroom\n",
       "...                                 ...      ...\n",
       "4480  ../data/CBIR_15-Scene/14/4481.jpg    Store\n",
       "4481  ../data/CBIR_15-Scene/14/4482.jpg    Store\n",
       "4482  ../data/CBIR_15-Scene/14/4483.jpg    Store\n",
       "4483  ../data/CBIR_15-Scene/14/4484.jpg    Store\n",
       "4484  ../data/CBIR_15-Scene/14/4485.jpg    Store\n",
       "\n",
       "[4485 rows x 2 columns]"
      ]
     },
     "execution_count": 7,
     "metadata": {},
     "output_type": "execute_result"
    }
   ],
   "source": [
    "df, split_variables = create_dataframe()\n",
    "df"
   ]
  },
  {
   "cell_type": "markdown",
   "metadata": {},
   "source": [
    "## ☝️ Part I: Comparing two different environments\n",
    "\n",
    "### ♻️ Preprocessing phase\n",
    "\n",
    "Now we start our experiments to understand if our idea work, however this time we are going to understand what happens with our approach using two different environments.\n",
    "\n",
    "In our case, I'm going to take the **Coast** and **Office** environments arbitrarily.\n"
   ]
  },
  {
   "cell_type": "code",
   "execution_count": 8,
   "metadata": {},
   "outputs": [
    {
     "data": {
      "text/html": [
       "<div>\n",
       "<style scoped>\n",
       "    .dataframe tbody tr th:only-of-type {\n",
       "        vertical-align: middle;\n",
       "    }\n",
       "\n",
       "    .dataframe tbody tr th {\n",
       "        vertical-align: top;\n",
       "    }\n",
       "\n",
       "    .dataframe thead th {\n",
       "        text-align: right;\n",
       "    }\n",
       "</style>\n",
       "<table border=\"1\" class=\"dataframe\">\n",
       "  <thead>\n",
       "    <tr style=\"text-align: right;\">\n",
       "      <th></th>\n",
       "      <th>image_path</th>\n",
       "      <th>category</th>\n",
       "    </tr>\n",
       "  </thead>\n",
       "  <tbody>\n",
       "    <tr>\n",
       "      <th>1267</th>\n",
       "      <td>../data/CBIR_15-Scene/05/1268.jpg</td>\n",
       "      <td>Coast</td>\n",
       "    </tr>\n",
       "    <tr>\n",
       "      <th>1268</th>\n",
       "      <td>../data/CBIR_15-Scene/05/1269.jpg</td>\n",
       "      <td>Coast</td>\n",
       "    </tr>\n",
       "    <tr>\n",
       "      <th>1269</th>\n",
       "      <td>../data/CBIR_15-Scene/05/1270.jpg</td>\n",
       "      <td>Coast</td>\n",
       "    </tr>\n",
       "    <tr>\n",
       "      <th>1270</th>\n",
       "      <td>../data/CBIR_15-Scene/05/1271.jpg</td>\n",
       "      <td>Coast</td>\n",
       "    </tr>\n",
       "    <tr>\n",
       "      <th>1271</th>\n",
       "      <td>../data/CBIR_15-Scene/05/1272.jpg</td>\n",
       "      <td>Coast</td>\n",
       "    </tr>\n",
       "    <tr>\n",
       "      <th>...</th>\n",
       "      <td>...</td>\n",
       "      <td>...</td>\n",
       "    </tr>\n",
       "    <tr>\n",
       "      <th>4165</th>\n",
       "      <td>../data/CBIR_15-Scene/13/4166.jpg</td>\n",
       "      <td>Office</td>\n",
       "    </tr>\n",
       "    <tr>\n",
       "      <th>4166</th>\n",
       "      <td>../data/CBIR_15-Scene/13/4167.jpg</td>\n",
       "      <td>Office</td>\n",
       "    </tr>\n",
       "    <tr>\n",
       "      <th>4167</th>\n",
       "      <td>../data/CBIR_15-Scene/13/4168.jpg</td>\n",
       "      <td>Office</td>\n",
       "    </tr>\n",
       "    <tr>\n",
       "      <th>4168</th>\n",
       "      <td>../data/CBIR_15-Scene/13/4169.jpg</td>\n",
       "      <td>Office</td>\n",
       "    </tr>\n",
       "    <tr>\n",
       "      <th>4169</th>\n",
       "      <td>../data/CBIR_15-Scene/13/4170.jpg</td>\n",
       "      <td>Office</td>\n",
       "    </tr>\n",
       "  </tbody>\n",
       "</table>\n",
       "<p>575 rows × 2 columns</p>\n",
       "</div>"
      ],
      "text/plain": [
       "                             image_path category\n",
       "1267  ../data/CBIR_15-Scene/05/1268.jpg    Coast\n",
       "1268  ../data/CBIR_15-Scene/05/1269.jpg    Coast\n",
       "1269  ../data/CBIR_15-Scene/05/1270.jpg    Coast\n",
       "1270  ../data/CBIR_15-Scene/05/1271.jpg    Coast\n",
       "1271  ../data/CBIR_15-Scene/05/1272.jpg    Coast\n",
       "...                                 ...      ...\n",
       "4165  ../data/CBIR_15-Scene/13/4166.jpg   Office\n",
       "4166  ../data/CBIR_15-Scene/13/4167.jpg   Office\n",
       "4167  ../data/CBIR_15-Scene/13/4168.jpg   Office\n",
       "4168  ../data/CBIR_15-Scene/13/4169.jpg   Office\n",
       "4169  ../data/CBIR_15-Scene/13/4170.jpg   Office\n",
       "\n",
       "[575 rows x 2 columns]"
      ]
     },
     "execution_count": 8,
     "metadata": {},
     "output_type": "execute_result"
    }
   ],
   "source": [
    "train_categories = ['Coast', 'Office']\n",
    "\n",
    "df_different = df[df['category'].isin(train_categories)]\n",
    "df_different"
   ]
  },
  {
   "cell_type": "markdown",
   "metadata": {},
   "source": [
    "It's time to separate our dataset into train and test. We should use the built-in function of sklearn to do this:"
   ]
  },
  {
   "cell_type": "code",
   "execution_count": 9,
   "metadata": {},
   "outputs": [],
   "source": [
    "X = df_different['image_path']\n",
    "y = df_different['category']\n",
    "(X_train, X_test, y_train, y_test) = train_test_split(X, y, test_size=0.2, random_state=10)\n"
   ]
  },
  {
   "cell_type": "markdown",
   "metadata": {},
   "source": [
    "Making sure that everything went well, we plot the grid of all the patches from the first image of our training set"
   ]
  },
  {
   "cell_type": "code",
   "execution_count": 10,
   "metadata": {},
   "outputs": [
    {
     "data": {
      "image/png": "[encoded data removed]",
      "text/plain": [
       "<Figure size 1000x1000 with 64 Axes>"
      ]
     },
     "metadata": {},
     "output_type": "display_data"
    }
   ],
   "source": [
    "def plot_patches_grid(patches, patch_size, grid_shape):\n",
    "    fig, axes = plt.subplots(grid_shape[0], grid_shape[1], figsize=(10, 10))\n",
    "    patch_idx = 0\n",
    "    for i in range(grid_shape[0]):\n",
    "        for j in range(grid_shape[1]):\n",
    "            if patch_idx < len(patches):\n",
    "                axes[i, j].imshow(cv2.cvtColor(patches[patch_idx], cv2.COLOR_BGR2RGB))\n",
    "                axes[i, j].axis('off')\n",
    "                patch_idx += 1\n",
    "            else:\n",
    "                axes[i, j].axis('off')\n",
    "    plt.tight_layout()\n",
    "    plt.show()\n",
    "\n",
    "patch_size = (32,32)\n",
    "\n",
    "first_image_path = X_train.iloc[0]\n",
    "image = cv2.imread(first_image_path)\n",
    "resized_image = resize_image(image, standard_size)\n",
    "patches, positions = create_patches(resized_image, patch_size)\n",
    "\n",
    "grid_rows = resized_image.shape[0] // patch_size[0]\n",
    "grid_cols = resized_image.shape[1] // patch_size[1]\n",
    "\n",
    "plot_patches_grid(patches, patch_size, (grid_rows, grid_cols))\n"
   ]
  },
  {
   "cell_type": "markdown",
   "metadata": {},
   "source": [
    "This is exactly what the module that's inside our \"image_patching.py\" do. So we now, need to save everything into the subfolders by calling that function:"
   ]
  },
  {
   "cell_type": "code",
   "execution_count": 11,
   "metadata": {},
   "outputs": [],
   "source": [
    "create_images_set(X_train, X_test, y_train, y_test, patch_size, output_dir_train='patches_train', output_dir_test='patches_test')"
   ]
  },
  {
   "cell_type": "markdown",
   "metadata": {},
   "source": [
    "Now, we should load our patches for training:"
   ]
  },
  {
   "cell_type": "code",
   "execution_count": 12,
   "metadata": {},
   "outputs": [],
   "source": [
    "training_patches_by_category = load_patches_by_category('patches_train', y, patch_size)"
   ]
  }
 ],
 "metadata": {
  "kernelspec": {
   "display_name": "os202",
   "language": "python",
   "name": "os202"
  },
  "language_info": {
   "codemirror_mode": {
    "name": "ipython",
    "version": 3
   },
   "file_extension": ".py",
   "mimetype": "text/x-python",
   "name": "python",
   "nbconvert_exporter": "python",
   "pygments_lexer": "ipython3",
   "version": "3.11.5"
  }
 },
 "nbformat": 4,
 "nbformat_minor": 2
}
