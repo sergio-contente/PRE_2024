{
 "cells": [
  {
   "cell_type": "markdown",
   "metadata": {},
   "source": [
    "# 🎉 Out-of-Distribution (OOD) with PCA using Deep Features from the Latent Space\n",
    "\n",
    "The goal of this notebook is to understand the depths of using Principal Component Analysis in order to perform OOD tasks using deep features from the latent space\n",
    "\n",
    "## 📝 Plan of action\n",
    "\n",
    "### ♻️ Preprocessing phase\n",
    "\n",
    "In order to achieve our goal, we need to understand how the dataset is structured.\n",
    "\n",
    "For this notebook, we are going to use the CBIR 15 dataset, that contains images of different places, such as an office, a bedroom, a mountain, etc. Note that there are some places that are similar one to another, i.e. a bedroom and a living room.\n",
    "\n",
    "Thus, in order to extract the features of the images we have to preprocess those images:\n",
    "\n",
    "- Get the images that are located in data/CBIR_15-scene and fit them to a dataframe using Pandas\n",
    "  - Locate the \"Labels.txt\" file: it shows where the indexes of the images from each category starts\n",
    "- Create the dataset with this information with two columns: the path to the image and its category\n",
    "- Transform all of the images in the same size (in this case, we are going with 256x256)\n",
    "  \n",
    "Now, in order to extract the features, it's necessary to divide the reshaped images into patches of 32x32 pixels. This is good to perform processing tasks to avoid waiting long periods of time.\n",
    "\n",
    "After all the preprocess, we should separate the images into two different foldes: one contains the patches of the training images that is going to give us their principal components and dimensions, and the other is the patches of the test images, that is going to be tested to fit into those dimensions and we'll get an OOD score afterwards.\n",
    "\n",
    "### 🏋🏽‍♂️ Training phase\n",
    "\n",
    "With the images that are stored inside the \"patches_train\" folder, the first thing we are going to do is _normalize_ all of the images to find the correct maximum covariance and transforming all the variables into the same scale.\n",
    "\n",
    "Next, we should then apply the PCA with all the components. As we have patches of 32x32, we'll be having 1024 features, hence components. Then we plot a graph to see how many components truly contributes for the most variance of the data - and give us more information about it. We're going to take the threshold of 95% of variance in this notebook.\n",
    "\n",
    "After getting the PCA with components that describe 95% of the variance, it's time to test our images and see how far of the residual space their data can be found.\n",
    "\n",
    "### ⚗️ Test phase and results\n",
    "\n",
    "In this phase, we take the test images and normalize then with the same scale of each PCA. This is important to maintain consistency throughout the final results and measure the norms in the new dimension properly.\n",
    "\n",
    "After that, we calculate the norm of the projection of the given data into the orthogonal space of the principal component and divide it by the norm of the data in relation to the origin. This is the OOD score.\n",
    "\n",
    "We calculate the mean of the score for each category and get the minimal one. The current environment is the smallest.\n"
   ]
  },
  {
   "cell_type": "markdown",
   "metadata": {},
   "source": [
    "--------------------------\n",
    "\n",
    "First of all, we need to understand which libraries we are going to use:\n",
    "\n",
    "- os: Deals with the operation system interface such as finding the relative and absolute path of files inside a project and reading/writing files for example.\n",
    "- sys: This module provides access to some variables used or maintained by the interpreter and to functions that interact strongly with the interpreter.\n",
    "- numpy: NumPy is the fundamental package for scientific computing in Python. It is a Python library that provides a multidimensional array object, various derived objects (such as masked arrays and matrices), and an assortment of routines for fast operations on arrays, including mathematical, logical, shape manipulation, sorting, selecting, I/O, discrete Fourier transforms, basic linear algebra, basic statistical operations, random simulation and much more.\n",
    "- pandas: Pandas is an open source, BSD-licensed library providing high-performance, easy-to-use data structures and data analysis tools for the Python programming language.\n",
    "- matplotlib: Deals with plotting graphs to visualize data in a graphical way.\n",
    "- sklearn: Scikit-learn provides dozens of built-in machine learning algorithms and models, called estimators."
   ]
  },
  {
   "cell_type": "code",
   "execution_count": 57,
   "metadata": {},
   "outputs": [],
   "source": [
    "import os\n",
    "import sys\n",
    "import cv2\n",
    "import numpy as np\n",
    "import pandas as pd\n",
    "import matplotlib.pyplot as plt\n",
    "from sklearn.model_selection import train_test_split\n",
    "from sklearn.preprocessing import StandardScaler\n",
    "from sklearn.decomposition import PCA\n"
   ]
  },
  {
   "cell_type": "markdown",
   "metadata": {},
   "source": [
    "I'd suggest to use a conda virtual environment in order to avoid messing up your base kernel environment and causing dependency errors in the future.\n",
    "\n",
    "After you successfully installed all the modules, it's time to import our custom modules that are going to deal with:\n",
    "\n",
    "- Creation of our dataframe using pandas\n",
    "- Separation of our dataset into patches of 32x32 in folders of training and test"
   ]
  },
  {
   "cell_type": "code",
   "execution_count": 58,
   "metadata": {},
   "outputs": [],
   "source": [
    "\n",
    "sys.path.append(os.path.abspath('..'))\n",
    "\n",
    "from dataframe_generator import *\n",
    "# from image_patching import *"
   ]
  },
  {
   "cell_type": "code",
   "execution_count": 59,
   "metadata": {},
   "outputs": [],
   "source": [
    "standard_size = (256, 256)  # Tamanho padrão para redimensionar as imagens\n",
    "input_size = (224, 224)     # Tamanho de entrada esperado pelo VGG16\n",
    "\n",
    "def create_patches(image, patch_size):\n",
    "    h, w, c = image.shape\n",
    "    patches = []\n",
    "    positions = []\n",
    "\n",
    "    for i in range(0, h, patch_size[0]):\n",
    "        for j in range(0, w, patch_size[1]):\n",
    "            patch = np.zeros((patch_size[0], patch_size[1], c), dtype=image.dtype)\n",
    "            patch_part = image[i:i + patch_size[0], j:j + patch_size[1]]\n",
    "            patch[:patch_part.shape[0], :patch_part.shape[1]] = patch_part\n",
    "            patches.append(patch)\n",
    "            positions.append((i, j))\n",
    "    return patches, positions\n",
    "\n",
    "def save_patches(patches, positions, output_dir, prefix, original_shape, patch_size=(32, 32)):\n",
    "    if not os.path.exists(output_dir):\n",
    "        os.makedirs(output_dir)\n",
    "    shape_filename = os.path.join(output_dir, f\"{prefix}_shape.txt\")\n",
    "    with open(shape_filename, 'w') as f:\n",
    "        f.write(f\"{original_shape[0]},{original_shape[1]},{original_shape[2]}\\n\")\n",
    "        f.write(f\"Number of Patches: {len(patches)}\\n\")\n",
    "        f.write(f\"Patch Size: {patch_size[0]},{patch_size[1]}\\n\")\n",
    "    for idx, (patch, position) in enumerate(zip(patches, positions)):\n",
    "        patch_filename = os.path.join(output_dir, f\"{prefix}_patch_{position[0]}_{position[1]}.png\")\n",
    "        cv2.imwrite(patch_filename, patch)\n",
    "\n",
    "def resize_image(image, size):\n",
    "    return cv2.resize(image, size)\n",
    "\n",
    "def create_images_set(X_train, X_test, y_train, y_test, patch_size=(32, 32), output_dir_train='patches_train', output_dir_test='patches_test', standard_size=(256, 256)):\n",
    "    # Processar imagens de treino\n",
    "    for path, category in zip(X_train, y_train):\n",
    "        image = cv2.imread(path)\n",
    "        if image is not None:\n",
    "            idx = os.path.splitext(os.path.basename(path))[0]  # Usar o nome da imagem como índice\n",
    "            resized_image = resize_image(image, standard_size)\n",
    "            image_patches, positions = create_patches(resized_image, patch_size)\n",
    "            category_dir = os.path.join(output_dir_train, str(category), f'image_{idx}')\n",
    "            save_patches(image_patches, positions, category_dir, f'image_{idx}', resized_image.shape, patch_size)\n",
    "\n",
    "    # Processar imagens de teste\n",
    "    for path, category in zip(X_test, y_test):\n",
    "        image = cv2.imread(path)\n",
    "        if image is not None:\n",
    "            idx = os.path.splitext(os.path.basename(path))[0]  # Usar o nome da imagem como índice\n",
    "            resized_image = resize_image(image, standard_size)\n",
    "            image_patches, positions = create_patches(resized_image, patch_size)\n",
    "            category_dir = os.path.join(output_dir_test, str(category), f'image_{idx}')\n",
    "            save_patches(image_patches, positions, category_dir, f'image_{idx}', resized_image.shape, patch_size)\n",
    "\n",
    "def load_patches_by_category(base_dir, categories, patch_size=(244, 244)):\n",
    "    patches_by_category = {}\n",
    "    for category in categories:\n",
    "        category_patches = []\n",
    "        category_dir = os.path.join(base_dir, str(category))\n",
    "        for root, _, files in os.walk(category_dir):\n",
    "            for filename in files:\n",
    "                if filename.endswith('.png'):\n",
    "                    patch = cv2.imread(os.path.join(root, filename))\n",
    "                    if patch is not None and patch.shape[:2] == patch_size:\n",
    "                        category_patches.append(patch)\n",
    "        patches_by_category[category] = np.array(category_patches)\n",
    "    return patches_by_category"
   ]
  },
  {
   "cell_type": "code",
   "execution_count": 60,
   "metadata": {},
   "outputs": [
    {
     "name": "stdout",
     "output_type": "stream",
     "text": [
      "Arquivos extraídos para ../data/\n"
     ]
    }
   ],
   "source": [
    "import tarfile\n",
    "\n",
    "def extract_tgz(tgz_path, extract_to):\n",
    "    if not os.path.exists(extract_to):\n",
    "        os.makedirs(extract_to)\n",
    "    \n",
    "    with tarfile.open(tgz_path, 'r:gz') as tar:\n",
    "        tar.extractall(path=extract_to)\n",
    "        print(f\"Arquivos extraídos para {extract_to}\")\n",
    "\n",
    "tgz_path = '../CBIR_15-Scene.tgz'\n",
    "extract_to = '../data/'\n",
    "\n",
    "extract_tgz(tgz_path, extract_to)"
   ]
  },
  {
   "cell_type": "code",
   "execution_count": 61,
   "metadata": {},
   "outputs": [
    {
     "name": "stdout",
     "output_type": "stream",
     "text": [
      "                             image_path category\n",
      "0        ../data/CBIR_15-Scene/00/1.jpg  Bedroom\n",
      "1        ../data/CBIR_15-Scene/00/2.jpg  Bedroom\n",
      "2        ../data/CBIR_15-Scene/00/3.jpg  Bedroom\n",
      "3        ../data/CBIR_15-Scene/00/4.jpg  Bedroom\n",
      "4        ../data/CBIR_15-Scene/00/5.jpg  Bedroom\n",
      "...                                 ...      ...\n",
      "4480  ../data/CBIR_15-Scene/14/4481.jpg    Store\n",
      "4481  ../data/CBIR_15-Scene/14/4482.jpg    Store\n",
      "4482  ../data/CBIR_15-Scene/14/4483.jpg    Store\n",
      "4483  ../data/CBIR_15-Scene/14/4484.jpg    Store\n",
      "4484  ../data/CBIR_15-Scene/14/4485.jpg    Store\n",
      "\n",
      "[4485 rows x 2 columns]\n"
     ]
    },
    {
     "data": {
      "text/html": [
       "<div>\n",
       "<style scoped>\n",
       "    .dataframe tbody tr th:only-of-type {\n",
       "        vertical-align: middle;\n",
       "    }\n",
       "\n",
       "    .dataframe tbody tr th {\n",
       "        vertical-align: top;\n",
       "    }\n",
       "\n",
       "    .dataframe thead th {\n",
       "        text-align: right;\n",
       "    }\n",
       "</style>\n",
       "<table border=\"1\" class=\"dataframe\">\n",
       "  <thead>\n",
       "    <tr style=\"text-align: right;\">\n",
       "      <th></th>\n",
       "      <th>image_path</th>\n",
       "      <th>category</th>\n",
       "    </tr>\n",
       "  </thead>\n",
       "  <tbody>\n",
       "    <tr>\n",
       "      <th>0</th>\n",
       "      <td>../data/CBIR_15-Scene/00/1.jpg</td>\n",
       "      <td>Bedroom</td>\n",
       "    </tr>\n",
       "    <tr>\n",
       "      <th>1</th>\n",
       "      <td>../data/CBIR_15-Scene/00/2.jpg</td>\n",
       "      <td>Bedroom</td>\n",
       "    </tr>\n",
       "    <tr>\n",
       "      <th>2</th>\n",
       "      <td>../data/CBIR_15-Scene/00/3.jpg</td>\n",
       "      <td>Bedroom</td>\n",
       "    </tr>\n",
       "    <tr>\n",
       "      <th>3</th>\n",
       "      <td>../data/CBIR_15-Scene/00/4.jpg</td>\n",
       "      <td>Bedroom</td>\n",
       "    </tr>\n",
       "    <tr>\n",
       "      <th>4</th>\n",
       "      <td>../data/CBIR_15-Scene/00/5.jpg</td>\n",
       "      <td>Bedroom</td>\n",
       "    </tr>\n",
       "    <tr>\n",
       "      <th>...</th>\n",
       "      <td>...</td>\n",
       "      <td>...</td>\n",
       "    </tr>\n",
       "    <tr>\n",
       "      <th>4480</th>\n",
       "      <td>../data/CBIR_15-Scene/14/4481.jpg</td>\n",
       "      <td>Store</td>\n",
       "    </tr>\n",
       "    <tr>\n",
       "      <th>4481</th>\n",
       "      <td>../data/CBIR_15-Scene/14/4482.jpg</td>\n",
       "      <td>Store</td>\n",
       "    </tr>\n",
       "    <tr>\n",
       "      <th>4482</th>\n",
       "      <td>../data/CBIR_15-Scene/14/4483.jpg</td>\n",
       "      <td>Store</td>\n",
       "    </tr>\n",
       "    <tr>\n",
       "      <th>4483</th>\n",
       "      <td>../data/CBIR_15-Scene/14/4484.jpg</td>\n",
       "      <td>Store</td>\n",
       "    </tr>\n",
       "    <tr>\n",
       "      <th>4484</th>\n",
       "      <td>../data/CBIR_15-Scene/14/4485.jpg</td>\n",
       "      <td>Store</td>\n",
       "    </tr>\n",
       "  </tbody>\n",
       "</table>\n",
       "<p>4485 rows × 2 columns</p>\n",
       "</div>"
      ],
      "text/plain": [
       "                             image_path category\n",
       "0        ../data/CBIR_15-Scene/00/1.jpg  Bedroom\n",
       "1        ../data/CBIR_15-Scene/00/2.jpg  Bedroom\n",
       "2        ../data/CBIR_15-Scene/00/3.jpg  Bedroom\n",
       "3        ../data/CBIR_15-Scene/00/4.jpg  Bedroom\n",
       "4        ../data/CBIR_15-Scene/00/5.jpg  Bedroom\n",
       "...                                 ...      ...\n",
       "4480  ../data/CBIR_15-Scene/14/4481.jpg    Store\n",
       "4481  ../data/CBIR_15-Scene/14/4482.jpg    Store\n",
       "4482  ../data/CBIR_15-Scene/14/4483.jpg    Store\n",
       "4483  ../data/CBIR_15-Scene/14/4484.jpg    Store\n",
       "4484  ../data/CBIR_15-Scene/14/4485.jpg    Store\n",
       "\n",
       "[4485 rows x 2 columns]"
      ]
     },
     "execution_count": 61,
     "metadata": {},
     "output_type": "execute_result"
    }
   ],
   "source": [
    "df, split_variables = create_dataframe()\n",
    "df"
   ]
  },
  {
   "cell_type": "markdown",
   "metadata": {},
   "source": [
    "## ☝️ Part I: Comparing two different environments\n",
    "\n",
    "### ♻️ Preprocessing phase\n",
    "\n",
    "Now we start our experiments to understand if our idea work, however this time we are going to understand what happens with our approach using two different environments.\n",
    "\n",
    "In our case, I'm going to take the **Coast** and **Office** environments arbitrarily.\n"
   ]
  },
  {
   "cell_type": "code",
   "execution_count": 62,
   "metadata": {},
   "outputs": [
    {
     "data": {
      "text/html": [
       "<div>\n",
       "<style scoped>\n",
       "    .dataframe tbody tr th:only-of-type {\n",
       "        vertical-align: middle;\n",
       "    }\n",
       "\n",
       "    .dataframe tbody tr th {\n",
       "        vertical-align: top;\n",
       "    }\n",
       "\n",
       "    .dataframe thead th {\n",
       "        text-align: right;\n",
       "    }\n",
       "</style>\n",
       "<table border=\"1\" class=\"dataframe\">\n",
       "  <thead>\n",
       "    <tr style=\"text-align: right;\">\n",
       "      <th></th>\n",
       "      <th>image_path</th>\n",
       "      <th>category</th>\n",
       "    </tr>\n",
       "  </thead>\n",
       "  <tbody>\n",
       "    <tr>\n",
       "      <th>1267</th>\n",
       "      <td>../data/CBIR_15-Scene/05/1268.jpg</td>\n",
       "      <td>Coast</td>\n",
       "    </tr>\n",
       "    <tr>\n",
       "      <th>1268</th>\n",
       "      <td>../data/CBIR_15-Scene/05/1269.jpg</td>\n",
       "      <td>Coast</td>\n",
       "    </tr>\n",
       "    <tr>\n",
       "      <th>1269</th>\n",
       "      <td>../data/CBIR_15-Scene/05/1270.jpg</td>\n",
       "      <td>Coast</td>\n",
       "    </tr>\n",
       "    <tr>\n",
       "      <th>1270</th>\n",
       "      <td>../data/CBIR_15-Scene/05/1271.jpg</td>\n",
       "      <td>Coast</td>\n",
       "    </tr>\n",
       "    <tr>\n",
       "      <th>1271</th>\n",
       "      <td>../data/CBIR_15-Scene/05/1272.jpg</td>\n",
       "      <td>Coast</td>\n",
       "    </tr>\n",
       "    <tr>\n",
       "      <th>...</th>\n",
       "      <td>...</td>\n",
       "      <td>...</td>\n",
       "    </tr>\n",
       "    <tr>\n",
       "      <th>4165</th>\n",
       "      <td>../data/CBIR_15-Scene/13/4166.jpg</td>\n",
       "      <td>Office</td>\n",
       "    </tr>\n",
       "    <tr>\n",
       "      <th>4166</th>\n",
       "      <td>../data/CBIR_15-Scene/13/4167.jpg</td>\n",
       "      <td>Office</td>\n",
       "    </tr>\n",
       "    <tr>\n",
       "      <th>4167</th>\n",
       "      <td>../data/CBIR_15-Scene/13/4168.jpg</td>\n",
       "      <td>Office</td>\n",
       "    </tr>\n",
       "    <tr>\n",
       "      <th>4168</th>\n",
       "      <td>../data/CBIR_15-Scene/13/4169.jpg</td>\n",
       "      <td>Office</td>\n",
       "    </tr>\n",
       "    <tr>\n",
       "      <th>4169</th>\n",
       "      <td>../data/CBIR_15-Scene/13/4170.jpg</td>\n",
       "      <td>Office</td>\n",
       "    </tr>\n",
       "  </tbody>\n",
       "</table>\n",
       "<p>575 rows × 2 columns</p>\n",
       "</div>"
      ],
      "text/plain": [
       "                             image_path category\n",
       "1267  ../data/CBIR_15-Scene/05/1268.jpg    Coast\n",
       "1268  ../data/CBIR_15-Scene/05/1269.jpg    Coast\n",
       "1269  ../data/CBIR_15-Scene/05/1270.jpg    Coast\n",
       "1270  ../data/CBIR_15-Scene/05/1271.jpg    Coast\n",
       "1271  ../data/CBIR_15-Scene/05/1272.jpg    Coast\n",
       "...                                 ...      ...\n",
       "4165  ../data/CBIR_15-Scene/13/4166.jpg   Office\n",
       "4166  ../data/CBIR_15-Scene/13/4167.jpg   Office\n",
       "4167  ../data/CBIR_15-Scene/13/4168.jpg   Office\n",
       "4168  ../data/CBIR_15-Scene/13/4169.jpg   Office\n",
       "4169  ../data/CBIR_15-Scene/13/4170.jpg   Office\n",
       "\n",
       "[575 rows x 2 columns]"
      ]
     },
     "execution_count": 62,
     "metadata": {},
     "output_type": "execute_result"
    }
   ],
   "source": [
    "train_categories = ['Coast', 'Office']\n",
    "\n",
    "df_different = df[df['category'].isin(train_categories)]\n",
    "df_different"
   ]
  },
  {
   "cell_type": "markdown",
   "metadata": {},
   "source": [
    "It's time to separate our dataset into train and test. We should use the built-in function of sklearn to do this:"
   ]
  },
  {
   "cell_type": "code",
   "execution_count": 63,
   "metadata": {},
   "outputs": [],
   "source": [
    "X = df_different['image_path']\n",
    "y = df_different['category']\n",
    "(X_train, X_test, y_train, y_test) = train_test_split(X, y, test_size=0.2, random_state=10)\n",
    "\n",
    "patch_size = (224, 224)\n"
   ]
  },
  {
   "cell_type": "markdown",
   "metadata": {},
   "source": [
    "Making sure that everything went well, we plot the grid of all the patches from the first image of our training set"
   ]
  },
  {
   "cell_type": "markdown",
   "metadata": {},
   "source": [
    "This is exactly what the module that's inside our \"image_patching.py\" do. So we now, need to save everything into the subfolders by calling that function:"
   ]
  },
  {
   "cell_type": "code",
   "execution_count": 64,
   "metadata": {},
   "outputs": [],
   "source": [
    "create_images_set(X_train, X_test, y_train, y_test, patch_size, output_dir_train='patches_train', output_dir_test='patches_test')"
   ]
  },
  {
   "cell_type": "markdown",
   "metadata": {},
   "source": [
    "Now, we should load our patches for training:"
   ]
  },
  {
   "cell_type": "code",
   "execution_count": 65,
   "metadata": {},
   "outputs": [],
   "source": [
    "training_patches_by_category = load_patches_by_category('patches_train', y, patch_size)"
   ]
  },
  {
   "cell_type": "markdown",
   "metadata": {},
   "source": [
    "### 🏋🏽‍♂️ Training phase\n",
    "\n",
    "Now that the have our training patches stored in that variable above, we should start our analysis with PCA.\n",
    "\n",
    "First of all, we **need to normalize and center** the data. It's so importantt that I had to emphasize it. Plus, since we are dealing with different categories, each one of them should be normalized with a different scaler (and we're going to save it for later)."
   ]
  },
  {
   "cell_type": "code",
   "execution_count": 66,
   "metadata": {},
   "outputs": [],
   "source": [
    "def normalize_and_center_patches(patches, scaler=None):\n",
    "    # Flatten patches to 2D array if not already flattened\n",
    "    original_shape = patches.shape\n",
    "    if len(original_shape) > 2:\n",
    "        patches = patches.reshape((patches.shape[0], -1))\n",
    "    \n",
    "    if scaler is None:\n",
    "        scaler = StandardScaler()\n",
    "        standardized_patches = scaler.fit_transform(patches)\n",
    "    else:\n",
    "        standardized_patches = scaler.transform(patches)\n",
    "\n",
    "    # Reshape back to original patch shape if needed\n",
    "    if len(original_shape) > 2:\n",
    "        standardized_patches = standardized_patches.reshape(original_shape)\n",
    "        \n",
    "    return standardized_patches, scaler\n",
    "\n",
    "standardized_patches_by_category = {}\n",
    "scalers_by_category = {}\n",
    "for category, patches in training_patches_by_category.items():\n",
    "    standardized_patches, scaler = normalize_and_center_patches(patches)\n",
    "    standardized_patches_by_category[category] = standardized_patches\n",
    "    scalers_by_category[category] = scaler\n"
   ]
  },
  {
   "cell_type": "code",
   "execution_count": 67,
   "metadata": {},
   "outputs": [
    {
     "data": {
      "image/png": "[encoded data removed]",
      "text/plain": [
       "<Figure size 1000x600 with 1 Axes>"
      ]
     },
     "metadata": {},
     "output_type": "display_data"
    },
    {
     "data": {
      "image/png": "[encoded data removed]",
      "text/plain": [
       "<Figure size 1000x600 with 1 Axes>"
      ]
     },
     "metadata": {},
     "output_type": "display_data"
    },
    {
     "data": {
      "image/png": "[encoded data removed]",
      "text/plain": [
       "<Figure size 1000x600 with 1 Axes>"
      ]
     },
     "metadata": {},
     "output_type": "display_data"
    },
    {
     "data": {
      "image/png": "[encoded data removed]",
      "text/plain": [
       "<Figure size 1000x600 with 1 Axes>"
      ]
     },
     "metadata": {},
     "output_type": "display_data"
    }
   ],
   "source": [
    "def plot_distribution(patches, title):\n",
    "    plt.figure(figsize=(10, 6))\n",
    "    plt.hist(patches.flatten(), bins=50, alpha=0.75)\n",
    "    plt.title(title)\n",
    "    plt.xlabel('Patch value')\n",
    "    plt.ylabel('Frequency')\n",
    "    plt.grid(True)\n",
    "    plt.show()\n",
    "\n",
    "\n",
    "for category, patches in training_patches_by_category.items():\n",
    "    plot_distribution(patches, f'Original data distribution - {category}')\n",
    "    plot_distribution(standardized_patches_by_category[category], f'Normalized data distribution- {category}')"
   ]
  },
  {
   "cell_type": "code",
   "execution_count": 68,
   "metadata": {},
   "outputs": [],
   "source": [
    "import tensorflow as tf\n",
    "from tensorflow.keras.datasets import cifar10\n",
    "from tensorflow.keras.applications.vgg16 import VGG16, preprocess_input\n",
    "from tensorflow.keras.models import Model"
   ]
  },
  {
   "cell_type": "code",
   "execution_count": 69,
   "metadata": {},
   "outputs": [
    {
     "name": "stdout",
     "output_type": "stream",
     "text": [
      "Categoria Coast, forma dos patches: (1152, 224, 224, 3)\n",
      "Categoria Office, forma dos patches: (688, 224, 224, 3)\n"
     ]
    }
   ],
   "source": [
    "preprocessed_patches_by_category = {}\n",
    "for category, patches in standardized_patches_by_category.items():\n",
    "    resized_patches = np.array([resize_image(patch, input_size) for patch in patches])\n",
    "    preprocessed_patches = preprocess_input(resized_patches)\n",
    "    preprocessed_patches_by_category[category] = preprocessed_patches\n",
    "\n",
    "for category, patches in preprocessed_patches_by_category.items():\n",
    "    print(f\"Categoria {category}, forma dos patches: {patches.shape}\")"
   ]
  },
  {
   "cell_type": "code",
   "execution_count": 70,
   "metadata": {},
   "outputs": [],
   "source": [
    "base_model = VGG16(weights='imagenet', include_top=True)"
   ]
  },
  {
   "cell_type": "code",
   "execution_count": 71,
   "metadata": {},
   "outputs": [],
   "source": [
    "# Getting the before last layer (Fully connected)\n",
    "model = Model(inputs=base_model.input, outputs=base_model.get_layer('fc2').output)"
   ]
  },
  {
   "cell_type": "code",
   "execution_count": 72,
   "metadata": {},
   "outputs": [
    {
     "name": "stdout",
     "output_type": "stream",
     "text": [
      "36/36 [==============================] - 92s 3s/step\n",
      "22/22 [==============================] - 53s 2s/step\n",
      "Categoria Coast, forma das características: (1152, 4096)\n",
      "Categoria Office, forma das características: (688, 4096)\n"
     ]
    }
   ],
   "source": [
    "# Extrair características usando o modelo VGG16\n",
    "features_by_category = {}\n",
    "for category, patches in preprocessed_patches_by_category.items():\n",
    "    features = model.predict(patches)\n",
    "    features_by_category[category] = features\n",
    "\n",
    "# Verificar a forma das características extraídas\n",
    "for category, features in features_by_category.items():\n",
    "    print(f\"Categoria {category}, forma das características: {features.shape}\")"
   ]
  },
  {
   "cell_type": "code",
   "execution_count": 73,
   "metadata": {},
   "outputs": [
    {
     "name": "stdout",
     "output_type": "stream",
     "text": [
      "Categoria Coast, componentes principais: 32\n",
      "Categoria Office, componentes principais: 28\n",
      "Categoria Coast, forma dos componentes principais: (32, 4096)\n",
      "Categoria Coast, variância explicada: 95.16%\n",
      "Categoria Office, forma dos componentes principais: (28, 4096)\n",
      "Categoria Office, variância explicada: 95.17%\n"
     ]
    }
   ],
   "source": [
    "from sklearn.decomposition import PCA\n",
    "\n",
    "# Aplicar PCA para cada conjunto de características por categoria\n",
    "pca_by_category = {}\n",
    "explained_variance_by_category = {}\n",
    "\n",
    "for category, features in features_by_category.items():\n",
    "    pca = PCA(n_components=0.95)  # Manter 95% da variância\n",
    "    principal_components = pca.fit_transform(features)\n",
    "    pca_by_category[category] = pca\n",
    "    explained_variance_by_category[category] = pca.explained_variance_ratio_\n",
    "    \n",
    "    # Printando a quantidade de componentes após o PCA\n",
    "    print(f\"Categoria {category}, componentes principais: {principal_components.shape[1]}\")\n",
    "\n",
    "# Verificar a forma dos componentes principais extraídos\n",
    "for category, pca in pca_by_category.items():\n",
    "    print(f\"Categoria {category}, forma dos componentes principais: {pca.components_.shape}\")\n",
    "    print(f\"Categoria {category}, variância explicada: {np.sum(explained_variance_by_category[category]) * 100:.2f}%\")\n"
   ]
  },
  {
   "cell_type": "code",
   "execution_count": 74,
   "metadata": {},
   "outputs": [],
   "source": [
    "def load_and_preprocess_test_patches(test_dir, categories, patch_size, input_size):\n",
    "    test_patches_by_category = load_patches_by_category(test_dir, categories, patch_size)\n",
    "    test_standardized_patches_by_category = {}\n",
    "    test_scalers_by_category = {}\n",
    "\n",
    "    for category, patches in test_patches_by_category.items():\n",
    "        test_standardized_patches, test_scaler = normalize_and_center_patches(patches)\n",
    "        test_standardized_patches_by_category[category] = test_standardized_patches\n",
    "        test_scalers_by_category[category] = test_scaler\n",
    "\n",
    "    test_preprocessed_patches_by_category = {}\n",
    "    for category, patches in test_standardized_patches_by_category.items():\n",
    "        test_resized_patches = np.array([resize_image(patch, input_size) for patch in patches])\n",
    "        test_preprocessed_patches = preprocess_input(test_resized_patches)\n",
    "        test_preprocessed_patches_by_category[category] = test_preprocessed_patches\n",
    "\n",
    "    return test_preprocessed_patches_by_category\n",
    "\n",
    "# Exemplo de uso da função\n",
    "test_preprocessed_patches_by_category = load_and_preprocess_test_patches('patches_test', y, patch_size, input_size)\n"
   ]
  },
  {
   "cell_type": "code",
   "execution_count": 75,
   "metadata": {},
   "outputs": [
    {
     "name": "stdout",
     "output_type": "stream",
     "text": [
      "9/9 [==============================] - 24s 3s/step\n",
      "6/6 [==============================] - 13s 2s/step\n"
     ]
    }
   ],
   "source": [
    "def extract_features_with_vgg16(model, preprocessed_patches_by_category):\n",
    "    features_by_category = {}\n",
    "    for category, patches in preprocessed_patches_by_category.items():\n",
    "        features = model.predict(patches)\n",
    "        features_by_category[category] = features\n",
    "    return features_by_category\n",
    "\n",
    "# Exemplo de uso da função\n",
    "test_features_by_category = extract_features_with_vgg16(model, test_preprocessed_patches_by_category)\n"
   ]
  },
  {
   "cell_type": "code",
   "execution_count": 76,
   "metadata": {},
   "outputs": [
    {
     "name": "stdout",
     "output_type": "stream",
     "text": [
      "Test category: Coast\n",
      "Categoria Coast, erro médio de reconstrução: 0.006329378113150597\n",
      "Categoria Office, erro médio de reconstrução: 0.009358472190797329\n",
      "A categoria com o menor erro médio de reconstrução é: Coast\n",
      "Test category: Office\n",
      "Categoria Coast, erro médio de reconstrução: 0.012230810709297657\n",
      "Categoria Office, erro médio de reconstrução: 0.010172921232879162\n",
      "A categoria com o menor erro médio de reconstrução é: Office\n"
     ]
    }
   ],
   "source": [
    "def calculate_reconstruction_error(test_features, pca_by_category):\n",
    "    mean_reconstruction_errors = {}\n",
    "    \n",
    "    for category, pca in pca_by_category.items():\n",
    "        principal_components = pca.transform(test_features)\n",
    "        \n",
    "        # Reconstruir as características a partir dos componentes principais\n",
    "        reconstructed_features = pca.inverse_transform(principal_components)\n",
    "        \n",
    "        # Calcular o erro de reconstrução (erro absoluto médio)\n",
    "        reconstruction_error = np.mean(np.abs(test_features - reconstructed_features), axis=1)\n",
    "        mean_reconstruction_errors[category] = np.mean(reconstruction_error)\n",
    "    \n",
    "    # Identificar a categoria com o menor erro médio de reconstrução\n",
    "    best_category = min(mean_reconstruction_errors, key=mean_reconstruction_errors.get)\n",
    "\n",
    "    for category in mean_reconstruction_errors:\n",
    "        print(f\"Categoria {category}, erro médio de reconstrução: {mean_reconstruction_errors[category]}\")\n",
    "    \n",
    "    print(f\"A categoria com o menor erro médio de reconstrução é: {best_category}\")\n",
    "\n",
    "    return mean_reconstruction_errors, best_category\n",
    "\n",
    "# Exemplo de uso da função com dados de teste\n",
    "for category, test_features in test_features_by_category.items():\n",
    "    print(f\"Test category: {category}\")\n",
    "    mean_reconstruction_errors, best_category = calculate_reconstruction_error(test_features, pca_by_category)\n"
   ]
  },
  {
   "cell_type": "markdown",
   "metadata": {},
   "source": [
    "## ✌️ Part II: Comparing two similar environments"
   ]
  },
  {
   "cell_type": "code",
   "execution_count": 77,
   "metadata": {},
   "outputs": [
    {
     "data": {
      "text/html": [
       "<div>\n",
       "<style scoped>\n",
       "    .dataframe tbody tr th:only-of-type {\n",
       "        vertical-align: middle;\n",
       "    }\n",
       "\n",
       "    .dataframe tbody tr th {\n",
       "        vertical-align: top;\n",
       "    }\n",
       "\n",
       "    .dataframe thead th {\n",
       "        text-align: right;\n",
       "    }\n",
       "</style>\n",
       "<table border=\"1\" class=\"dataframe\">\n",
       "  <thead>\n",
       "    <tr style=\"text-align: right;\">\n",
       "      <th></th>\n",
       "      <th>image_path</th>\n",
       "      <th>category</th>\n",
       "    </tr>\n",
       "  </thead>\n",
       "  <tbody>\n",
       "    <tr>\n",
       "      <th>0</th>\n",
       "      <td>../data/CBIR_15-Scene/00/1.jpg</td>\n",
       "      <td>Bedroom</td>\n",
       "    </tr>\n",
       "    <tr>\n",
       "      <th>1</th>\n",
       "      <td>../data/CBIR_15-Scene/00/2.jpg</td>\n",
       "      <td>Bedroom</td>\n",
       "    </tr>\n",
       "    <tr>\n",
       "      <th>2</th>\n",
       "      <td>../data/CBIR_15-Scene/00/3.jpg</td>\n",
       "      <td>Bedroom</td>\n",
       "    </tr>\n",
       "    <tr>\n",
       "      <th>3</th>\n",
       "      <td>../data/CBIR_15-Scene/00/4.jpg</td>\n",
       "      <td>Bedroom</td>\n",
       "    </tr>\n",
       "    <tr>\n",
       "      <th>4</th>\n",
       "      <td>../data/CBIR_15-Scene/00/5.jpg</td>\n",
       "      <td>Bedroom</td>\n",
       "    </tr>\n",
       "    <tr>\n",
       "      <th>...</th>\n",
       "      <td>...</td>\n",
       "      <td>...</td>\n",
       "    </tr>\n",
       "    <tr>\n",
       "      <th>1262</th>\n",
       "      <td>../data/CBIR_15-Scene/04/1263.jpg</td>\n",
       "      <td>LivingRoom</td>\n",
       "    </tr>\n",
       "    <tr>\n",
       "      <th>1263</th>\n",
       "      <td>../data/CBIR_15-Scene/04/1264.jpg</td>\n",
       "      <td>LivingRoom</td>\n",
       "    </tr>\n",
       "    <tr>\n",
       "      <th>1264</th>\n",
       "      <td>../data/CBIR_15-Scene/04/1265.jpg</td>\n",
       "      <td>LivingRoom</td>\n",
       "    </tr>\n",
       "    <tr>\n",
       "      <th>1265</th>\n",
       "      <td>../data/CBIR_15-Scene/04/1266.jpg</td>\n",
       "      <td>LivingRoom</td>\n",
       "    </tr>\n",
       "    <tr>\n",
       "      <th>1266</th>\n",
       "      <td>../data/CBIR_15-Scene/04/1267.jpg</td>\n",
       "      <td>LivingRoom</td>\n",
       "    </tr>\n",
       "  </tbody>\n",
       "</table>\n",
       "<p>505 rows × 2 columns</p>\n",
       "</div>"
      ],
      "text/plain": [
       "                             image_path    category\n",
       "0        ../data/CBIR_15-Scene/00/1.jpg     Bedroom\n",
       "1        ../data/CBIR_15-Scene/00/2.jpg     Bedroom\n",
       "2        ../data/CBIR_15-Scene/00/3.jpg     Bedroom\n",
       "3        ../data/CBIR_15-Scene/00/4.jpg     Bedroom\n",
       "4        ../data/CBIR_15-Scene/00/5.jpg     Bedroom\n",
       "...                                 ...         ...\n",
       "1262  ../data/CBIR_15-Scene/04/1263.jpg  LivingRoom\n",
       "1263  ../data/CBIR_15-Scene/04/1264.jpg  LivingRoom\n",
       "1264  ../data/CBIR_15-Scene/04/1265.jpg  LivingRoom\n",
       "1265  ../data/CBIR_15-Scene/04/1266.jpg  LivingRoom\n",
       "1266  ../data/CBIR_15-Scene/04/1267.jpg  LivingRoom\n",
       "\n",
       "[505 rows x 2 columns]"
      ]
     },
     "execution_count": 77,
     "metadata": {},
     "output_type": "execute_result"
    }
   ],
   "source": [
    "train_categories = ['Bedroom', 'LivingRoom']\n",
    "\n",
    "df_different = df[df['category'].isin(train_categories)]\n",
    "df_different"
   ]
  },
  {
   "cell_type": "code",
   "execution_count": 78,
   "metadata": {},
   "outputs": [],
   "source": [
    "X = df_different['image_path']\n",
    "y = df_different['category']\n",
    "(X_train, X_test, y_train, y_test) = train_test_split(X, y, test_size=0.2, random_state=10)\n",
    "\n",
    "patch_size = (224, 224)\n"
   ]
  },
  {
   "cell_type": "code",
   "execution_count": 79,
   "metadata": {},
   "outputs": [],
   "source": [
    "create_images_set(X_train, X_test, y_train, y_test, patch_size, output_dir_train='patches_train', output_dir_test='patches_test')"
   ]
  },
  {
   "cell_type": "code",
   "execution_count": 80,
   "metadata": {},
   "outputs": [],
   "source": [
    "training_patches_by_category = load_patches_by_category('patches_train', y, patch_size)"
   ]
  },
  {
   "cell_type": "code",
   "execution_count": 81,
   "metadata": {},
   "outputs": [],
   "source": [
    "def normalize_and_center_patches(patches, scaler=None):\n",
    "    # Flatten patches to 2D array if not already flattened\n",
    "    original_shape = patches.shape\n",
    "    if len(original_shape) > 2:\n",
    "        patches = patches.reshape((patches.shape[0], -1))\n",
    "    \n",
    "    if scaler is None:\n",
    "        scaler = StandardScaler()\n",
    "        standardized_patches = scaler.fit_transform(patches)\n",
    "    else:\n",
    "        standardized_patches = scaler.transform(patches)\n",
    "\n",
    "    # Reshape back to original patch shape if needed\n",
    "    if len(original_shape) > 2:\n",
    "        standardized_patches = standardized_patches.reshape(original_shape)\n",
    "        \n",
    "    return standardized_patches, scaler\n",
    "\n",
    "standardized_patches_by_category = {}\n",
    "scalers_by_category = {}\n",
    "for category, patches in training_patches_by_category.items():\n",
    "    standardized_patches, scaler = normalize_and_center_patches(patches)\n",
    "    standardized_patches_by_category[category] = standardized_patches\n",
    "    scalers_by_category[category] = scaler\n"
   ]
  },
  {
   "cell_type": "code",
   "execution_count": 82,
   "metadata": {},
   "outputs": [
    {
     "data": {
      "image/png": "[encoded data removed]",
      "text/plain": [
       "<Figure size 1000x600 with 1 Axes>"
      ]
     },
     "metadata": {},
     "output_type": "display_data"
    },
    {
     "data": {
      "image/png": "[encoded data removed]",
      "text/plain": [
       "<Figure size 1000x600 with 1 Axes>"
      ]
     },
     "metadata": {},
     "output_type": "display_data"
    },
    {
     "data": {
      "image/png": "[encoded data removed]",
      "text/plain": [
       "<Figure size 1000x600 with 1 Axes>"
      ]
     },
     "metadata": {},
     "output_type": "display_data"
    },
    {
     "data": {
      "image/png": "[encoded data removed]",
      "text/plain": [
       "<Figure size 1000x600 with 1 Axes>"
      ]
     },
     "metadata": {},
     "output_type": "display_data"
    }
   ],
   "source": [
    "def plot_distribution(patches, title):\n",
    "    plt.figure(figsize=(10, 6))\n",
    "    plt.hist(patches.flatten(), bins=50, alpha=0.75)\n",
    "    plt.title(title)\n",
    "    plt.xlabel('Patch value')\n",
    "    plt.ylabel('Frequency')\n",
    "    plt.grid(True)\n",
    "    plt.show()\n",
    "\n",
    "\n",
    "for category, patches in training_patches_by_category.items():\n",
    "    plot_distribution(patches, f'Original data distribution - {category}')\n",
    "    plot_distribution(standardized_patches_by_category[category], f'Normalized data distribution- {category}')"
   ]
  },
  {
   "cell_type": "code",
   "execution_count": 83,
   "metadata": {},
   "outputs": [
    {
     "name": "stdout",
     "output_type": "stream",
     "text": [
      "Categoria Bedroom, forma dos patches: (692, 224, 224, 3)\n",
      "Categoria LivingRoom, forma dos patches: (924, 224, 224, 3)\n"
     ]
    }
   ],
   "source": [
    "preprocessed_patches_by_category = {}\n",
    "for category, patches in standardized_patches_by_category.items():\n",
    "    resized_patches = np.array([resize_image(patch, input_size) for patch in patches])\n",
    "    preprocessed_patches = preprocess_input(resized_patches)\n",
    "    preprocessed_patches_by_category[category] = preprocessed_patches\n",
    "\n",
    "for category, patches in preprocessed_patches_by_category.items():\n",
    "    print(f\"Categoria {category}, forma dos patches: {patches.shape}\")"
   ]
  },
  {
   "cell_type": "code",
   "execution_count": 84,
   "metadata": {},
   "outputs": [],
   "source": [
    "base_model = VGG16(weights='imagenet', include_top=True)"
   ]
  },
  {
   "cell_type": "code",
   "execution_count": 85,
   "metadata": {},
   "outputs": [],
   "source": [
    "# Getting the before last layer (Fully connected)\n",
    "model = Model(inputs=base_model.input, outputs=base_model.get_layer('fc2').output)"
   ]
  },
  {
   "cell_type": "code",
   "execution_count": 86,
   "metadata": {},
   "outputs": [
    {
     "name": "stdout",
     "output_type": "stream",
     "text": [
      "22/22 [==============================] - 61s 3s/step\n",
      "29/29 [==============================] - 77s 3s/step\n",
      "Categoria Bedroom, forma das características: (692, 4096)\n",
      "Categoria LivingRoom, forma das características: (924, 4096)\n"
     ]
    }
   ],
   "source": [
    "# Extrair características usando o modelo VGG16\n",
    "features_by_category = {}\n",
    "for category, patches in preprocessed_patches_by_category.items():\n",
    "    features = model.predict(patches)\n",
    "    features_by_category[category] = features\n",
    "\n",
    "# Verificar a forma das características extraídas\n",
    "for category, features in features_by_category.items():\n",
    "    print(f\"Categoria {category}, forma das características: {features.shape}\")"
   ]
  },
  {
   "cell_type": "code",
   "execution_count": 87,
   "metadata": {},
   "outputs": [
    {
     "name": "stdout",
     "output_type": "stream",
     "text": [
      "Categoria Bedroom, componentes principais: 31\n",
      "Categoria LivingRoom, componentes principais: 31\n",
      "Categoria Bedroom, forma dos componentes principais: (31, 4096)\n",
      "Categoria Bedroom, variância explicada: 95.12%\n",
      "Categoria LivingRoom, forma dos componentes principais: (31, 4096)\n",
      "Categoria LivingRoom, variância explicada: 95.06%\n"
     ]
    }
   ],
   "source": [
    "from sklearn.decomposition import PCA\n",
    "\n",
    "# Aplicar PCA para cada conjunto de características por categoria\n",
    "pca_by_category = {}\n",
    "explained_variance_by_category = {}\n",
    "\n",
    "for category, features in features_by_category.items():\n",
    "    pca = PCA(n_components=0.95)  # Manter 95% da variância\n",
    "    principal_components = pca.fit_transform(features)\n",
    "    pca_by_category[category] = pca\n",
    "    explained_variance_by_category[category] = pca.explained_variance_ratio_\n",
    "    \n",
    "    # Printando a quantidade de componentes após o PCA\n",
    "    print(f\"Categoria {category}, componentes principais: {principal_components.shape[1]}\")\n",
    "\n",
    "# Verificar a forma dos componentes principais extraídos\n",
    "for category, pca in pca_by_category.items():\n",
    "    print(f\"Categoria {category}, forma dos componentes principais: {pca.components_.shape}\")\n",
    "    print(f\"Categoria {category}, variância explicada: {np.sum(explained_variance_by_category[category]) * 100:.2f}%\")\n"
   ]
  },
  {
   "cell_type": "code",
   "execution_count": 88,
   "metadata": {},
   "outputs": [],
   "source": [
    "def load_and_preprocess_test_patches(test_dir, categories, patch_size, input_size):\n",
    "    test_patches_by_category = load_patches_by_category(test_dir, categories, patch_size)\n",
    "    test_standardized_patches_by_category = {}\n",
    "    test_scalers_by_category = {}\n",
    "\n",
    "    for category, patches in test_patches_by_category.items():\n",
    "        test_standardized_patches, test_scaler = normalize_and_center_patches(patches)\n",
    "        test_standardized_patches_by_category[category] = test_standardized_patches\n",
    "        test_scalers_by_category[category] = test_scaler\n",
    "\n",
    "    test_preprocessed_patches_by_category = {}\n",
    "    for category, patches in test_standardized_patches_by_category.items():\n",
    "        test_resized_patches = np.array([resize_image(patch, input_size) for patch in patches])\n",
    "        test_preprocessed_patches = preprocess_input(test_resized_patches)\n",
    "        test_preprocessed_patches_by_category[category] = test_preprocessed_patches\n",
    "\n",
    "    return test_preprocessed_patches_by_category\n",
    "\n",
    "# Exemplo de uso da função\n",
    "test_preprocessed_patches_by_category = load_and_preprocess_test_patches('patches_test', y, patch_size, input_size)\n"
   ]
  },
  {
   "cell_type": "code",
   "execution_count": 89,
   "metadata": {},
   "outputs": [
    {
     "name": "stdout",
     "output_type": "stream",
     "text": [
      "6/6 [==============================] - 16s 3s/step\n",
      "8/8 [==============================] - 19s 2s/step\n"
     ]
    }
   ],
   "source": [
    "def extract_features_with_vgg16(model, preprocessed_patches_by_category):\n",
    "    features_by_category = {}\n",
    "    for category, patches in preprocessed_patches_by_category.items():\n",
    "        features = model.predict(patches)\n",
    "        features_by_category[category] = features\n",
    "    return features_by_category\n",
    "\n",
    "# Exemplo de uso da função\n",
    "test_features_by_category = extract_features_with_vgg16(model, test_preprocessed_patches_by_category)\n"
   ]
  },
  {
   "cell_type": "code",
   "execution_count": 90,
   "metadata": {},
   "outputs": [
    {
     "name": "stdout",
     "output_type": "stream",
     "text": [
      "Test category: Bedroom\n",
      "Categoria Bedroom, erro médio de reconstrução: 0.010743308812379837\n",
      "Categoria LivingRoom, erro médio de reconstrução: 0.01120669487863779\n",
      "A categoria com o menor erro médio de reconstrução é: Bedroom\n",
      "Test category: LivingRoom\n",
      "Categoria Bedroom, erro médio de reconstrução: 0.010061190463602543\n",
      "Categoria LivingRoom, erro médio de reconstrução: 0.009974346496164799\n",
      "A categoria com o menor erro médio de reconstrução é: LivingRoom\n"
     ]
    }
   ],
   "source": [
    "def calculate_reconstruction_error(test_features, pca_by_category):\n",
    "    mean_reconstruction_errors = {}\n",
    "    \n",
    "    for category, pca in pca_by_category.items():\n",
    "        principal_components = pca.transform(test_features)\n",
    "        \n",
    "        # Reconstruir as características a partir dos componentes principais\n",
    "        reconstructed_features = pca.inverse_transform(principal_components)\n",
    "        \n",
    "        # Calcular o erro de reconstrução (erro absoluto médio)\n",
    "        reconstruction_error = np.mean(np.abs(test_features - reconstructed_features), axis=1)\n",
    "        mean_reconstruction_errors[category] = np.mean(reconstruction_error)\n",
    "    \n",
    "    # Identificar a categoria com o menor erro médio de reconstrução\n",
    "    best_category = min(mean_reconstruction_errors, key=mean_reconstruction_errors.get)\n",
    "\n",
    "    for category in mean_reconstruction_errors:\n",
    "        print(f\"Categoria {category}, erro médio de reconstrução: {mean_reconstruction_errors[category]}\")\n",
    "    \n",
    "    print(f\"A categoria com o menor erro médio de reconstrução é: {best_category}\")\n",
    "\n",
    "    return mean_reconstruction_errors, best_category\n",
    "\n",
    "# Exemplo de uso da função com dados de teste\n",
    "for category, test_features in test_features_by_category.items():\n",
    "    print(f\"Test category: {category}\")\n",
    "    mean_reconstruction_errors, best_category = calculate_reconstruction_error(test_features, pca_by_category)\n"
   ]
  }
 ],
 "metadata": {
  "kernelspec": {
   "display_name": "os202",
   "language": "python",
   "name": "os202"
  },
  "language_info": {
   "codemirror_mode": {
    "name": "ipython",
    "version": 3
   },
   "file_extension": ".py",
   "mimetype": "text/x-python",
   "name": "python",
   "nbconvert_exporter": "python",
   "pygments_lexer": "ipython3",
   "version": "3.11.5"
  }
 },
 "nbformat": 4,
 "nbformat_minor": 2
}
