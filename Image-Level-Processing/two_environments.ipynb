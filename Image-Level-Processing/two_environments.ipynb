{
 "cells": [
  {
   "cell_type": "code",
   "execution_count": 1,
   "metadata": {},
   "outputs": [],
   "source": [
    "import os\n",
    "import sys\n",
    "\n",
    "sys.path.append(os.path.abspath('..'))\n",
    "\n",
    "from dataframe_generator import *\n",
    "from image_patching import *"
   ]
  },
  {
   "cell_type": "code",
   "execution_count": 2,
   "metadata": {},
   "outputs": [
    {
     "name": "stdout",
     "output_type": "stream",
     "text": [
      "                             image_path category\n",
      "0        ../data/CBIR_15-Scene/00/1.jpg  Bedroom\n",
      "1        ../data/CBIR_15-Scene/00/2.jpg  Bedroom\n",
      "2        ../data/CBIR_15-Scene/00/3.jpg  Bedroom\n",
      "3        ../data/CBIR_15-Scene/00/4.jpg  Bedroom\n",
      "4        ../data/CBIR_15-Scene/00/5.jpg  Bedroom\n",
      "...                                 ...      ...\n",
      "4480  ../data/CBIR_15-Scene/14/4481.jpg    Store\n",
      "4481  ../data/CBIR_15-Scene/14/4482.jpg    Store\n",
      "4482  ../data/CBIR_15-Scene/14/4483.jpg    Store\n",
      "4483  ../data/CBIR_15-Scene/14/4484.jpg    Store\n",
      "4484  ../data/CBIR_15-Scene/14/4485.jpg    Store\n",
      "\n",
      "[4485 rows x 2 columns]\n"
     ]
    },
    {
     "data": {
      "text/html": [
       "<div>\n",
       "<style scoped>\n",
       "    .dataframe tbody tr th:only-of-type {\n",
       "        vertical-align: middle;\n",
       "    }\n",
       "\n",
       "    .dataframe tbody tr th {\n",
       "        vertical-align: top;\n",
       "    }\n",
       "\n",
       "    .dataframe thead th {\n",
       "        text-align: right;\n",
       "    }\n",
       "</style>\n",
       "<table border=\"1\" class=\"dataframe\">\n",
       "  <thead>\n",
       "    <tr style=\"text-align: right;\">\n",
       "      <th></th>\n",
       "      <th>image_path</th>\n",
       "      <th>category</th>\n",
       "    </tr>\n",
       "  </thead>\n",
       "  <tbody>\n",
       "    <tr>\n",
       "      <th>0</th>\n",
       "      <td>../data/CBIR_15-Scene/00/1.jpg</td>\n",
       "      <td>Bedroom</td>\n",
       "    </tr>\n",
       "    <tr>\n",
       "      <th>1</th>\n",
       "      <td>../data/CBIR_15-Scene/00/2.jpg</td>\n",
       "      <td>Bedroom</td>\n",
       "    </tr>\n",
       "    <tr>\n",
       "      <th>2</th>\n",
       "      <td>../data/CBIR_15-Scene/00/3.jpg</td>\n",
       "      <td>Bedroom</td>\n",
       "    </tr>\n",
       "    <tr>\n",
       "      <th>3</th>\n",
       "      <td>../data/CBIR_15-Scene/00/4.jpg</td>\n",
       "      <td>Bedroom</td>\n",
       "    </tr>\n",
       "    <tr>\n",
       "      <th>4</th>\n",
       "      <td>../data/CBIR_15-Scene/00/5.jpg</td>\n",
       "      <td>Bedroom</td>\n",
       "    </tr>\n",
       "    <tr>\n",
       "      <th>...</th>\n",
       "      <td>...</td>\n",
       "      <td>...</td>\n",
       "    </tr>\n",
       "    <tr>\n",
       "      <th>4480</th>\n",
       "      <td>../data/CBIR_15-Scene/14/4481.jpg</td>\n",
       "      <td>Store</td>\n",
       "    </tr>\n",
       "    <tr>\n",
       "      <th>4481</th>\n",
       "      <td>../data/CBIR_15-Scene/14/4482.jpg</td>\n",
       "      <td>Store</td>\n",
       "    </tr>\n",
       "    <tr>\n",
       "      <th>4482</th>\n",
       "      <td>../data/CBIR_15-Scene/14/4483.jpg</td>\n",
       "      <td>Store</td>\n",
       "    </tr>\n",
       "    <tr>\n",
       "      <th>4483</th>\n",
       "      <td>../data/CBIR_15-Scene/14/4484.jpg</td>\n",
       "      <td>Store</td>\n",
       "    </tr>\n",
       "    <tr>\n",
       "      <th>4484</th>\n",
       "      <td>../data/CBIR_15-Scene/14/4485.jpg</td>\n",
       "      <td>Store</td>\n",
       "    </tr>\n",
       "  </tbody>\n",
       "</table>\n",
       "<p>4485 rows × 2 columns</p>\n",
       "</div>"
      ],
      "text/plain": [
       "                             image_path category\n",
       "0        ../data/CBIR_15-Scene/00/1.jpg  Bedroom\n",
       "1        ../data/CBIR_15-Scene/00/2.jpg  Bedroom\n",
       "2        ../data/CBIR_15-Scene/00/3.jpg  Bedroom\n",
       "3        ../data/CBIR_15-Scene/00/4.jpg  Bedroom\n",
       "4        ../data/CBIR_15-Scene/00/5.jpg  Bedroom\n",
       "...                                 ...      ...\n",
       "4480  ../data/CBIR_15-Scene/14/4481.jpg    Store\n",
       "4481  ../data/CBIR_15-Scene/14/4482.jpg    Store\n",
       "4482  ../data/CBIR_15-Scene/14/4483.jpg    Store\n",
       "4483  ../data/CBIR_15-Scene/14/4484.jpg    Store\n",
       "4484  ../data/CBIR_15-Scene/14/4485.jpg    Store\n",
       "\n",
       "[4485 rows x 2 columns]"
      ]
     },
     "execution_count": 2,
     "metadata": {},
     "output_type": "execute_result"
    }
   ],
   "source": [
    "pd, split_variables = create_dataframe()\n",
    "pd"
   ]
  }
 ],
 "metadata": {
  "kernelspec": {
   "display_name": "os202",
   "language": "python",
   "name": "os202"
  },
  "language_info": {
   "codemirror_mode": {
    "name": "ipython",
    "version": 3
   },
   "file_extension": ".py",
   "mimetype": "text/x-python",
   "name": "python",
   "nbconvert_exporter": "python",
   "pygments_lexer": "ipython3",
   "version": "3.11.7"
  }
 },
 "nbformat": 4,
 "nbformat_minor": 2
}
